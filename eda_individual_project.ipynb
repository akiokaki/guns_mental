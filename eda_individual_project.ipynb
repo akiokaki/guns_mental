{
 "cells": [
  {
   "cell_type": "code",
   "execution_count": 18,
   "metadata": {},
   "outputs": [],
   "source": [
    "import re\n",
    "import numpy as np\n",
    "import pandas as pd\n",
    "import us\n",
    "import seaborn as sns\n",
    "from scipy import stats\n",
    "\n",
    "%matplotlib inline"
   ]
  },
  {
   "cell_type": "markdown",
   "metadata": {},
   "source": [
    "## Step 1.1: Import death rate file and clean up to import as pd.DataFrame"
   ]
  },
  {
   "cell_type": "code",
   "execution_count": 19,
   "metadata": {},
   "outputs": [],
   "source": [
    "# Import .txt file\n",
    "raw_death_fname = 'Underlying Cause of Death, 1999-2016.txt'\n",
    "with open(raw_death_fname, 'r') as raw_death_f:\n",
    "    raw_death_content = raw_death_f.read()\n",
    "\n",
    "# clean up the output by getting rid of the first 8 characters\n",
    "raw_death_content = raw_death_content[8:]\n",
    "\n",
    "# split the content by '---'\n",
    "raw_death_content = re.split('---',raw_death_content)[0]"
   ]
  },
  {
   "cell_type": "code",
   "execution_count": 20,
   "metadata": {},
   "outputs": [],
   "source": [
    "# split the above content even more by tabs\n",
    "temp_list = re.split('\\t',raw_death_content)\n",
    "death_content_remix = ''\n",
    "\n",
    "# convert to a csv\n",
    "for i in temp_list:\n",
    "    if i != '\\t':\n",
    "        death_content_remix += (i + ',')\n",
    "death_content_remix = death_content_remix[:-3]"
   ]
  },
  {
   "cell_type": "code",
   "execution_count": 21,
   "metadata": {},
   "outputs": [],
   "source": [
    "temp_csv = \"temp.csv\""
   ]
  },
  {
   "cell_type": "code",
   "execution_count": 22,
   "metadata": {},
   "outputs": [],
   "source": [
    "# Save as a csv file\n",
    "with open(temp_csv, 'w') as f:\n",
    "    f.write(death_content_remix)"
   ]
  },
  {
   "cell_type": "code",
   "execution_count": 23,
   "metadata": {},
   "outputs": [
    {
     "data": {
      "text/plain": [
       "pandas.core.frame.DataFrame"
      ]
     },
     "execution_count": 23,
     "metadata": {},
     "output_type": "execute_result"
    }
   ],
   "source": [
    "# Open up cleaned up file as a pandas df\n",
    "df_death = pd.read_csv(\"temp.csv\")\n",
    "type(df_death)"
   ]
  },
  {
   "cell_type": "code",
   "execution_count": 24,
   "metadata": {},
   "outputs": [
    {
     "name": "stdout",
     "output_type": "stream",
     "text": [
      "Number of datapoints: 50\n"
     ]
    },
    {
     "data": {
      "text/html": [
       "<div>\n",
       "<style scoped>\n",
       "    .dataframe tbody tr th:only-of-type {\n",
       "        vertical-align: middle;\n",
       "    }\n",
       "\n",
       "    .dataframe tbody tr th {\n",
       "        vertical-align: top;\n",
       "    }\n",
       "\n",
       "    .dataframe thead th {\n",
       "        text-align: right;\n",
       "    }\n",
       "</style>\n",
       "<table border=\"1\" class=\"dataframe\">\n",
       "  <thead>\n",
       "    <tr style=\"text-align: right;\">\n",
       "      <th></th>\n",
       "      <th>State</th>\n",
       "      <th>State Code</th>\n",
       "      <th>Deaths</th>\n",
       "      <th>Population</th>\n",
       "      <th>Crude Rate</th>\n",
       "    </tr>\n",
       "  </thead>\n",
       "  <tbody>\n",
       "    <tr>\n",
       "      <th>NaN</th>\n",
       "      <td>Alabama</td>\n",
       "      <td>1</td>\n",
       "      <td>425</td>\n",
       "      <td>4858979</td>\n",
       "      <td>8.747</td>\n",
       "    </tr>\n",
       "    <tr>\n",
       "      <th>NaN</th>\n",
       "      <td>Alaska</td>\n",
       "      <td>2</td>\n",
       "      <td>52</td>\n",
       "      <td>738432</td>\n",
       "      <td>7.042</td>\n",
       "    </tr>\n",
       "  </tbody>\n",
       "</table>\n",
       "</div>"
      ],
      "text/plain": [
       "       State  State Code  Deaths  Population Crude Rate\n",
       "NaN  Alabama           1     425     4858979      8.747\n",
       "NaN   Alaska           2      52      738432      7.042"
      ]
     },
     "execution_count": 24,
     "metadata": {},
     "output_type": "execute_result"
    }
   ],
   "source": [
    "print('Number of datapoints: {}'.format(len(df_death)))\n",
    "df_death.head(2)"
   ]
  },
  {
   "cell_type": "markdown",
   "metadata": {},
   "source": [
    "## Step 1.2: Import and clean up mental heath help dataset"
   ]
  },
  {
   "cell_type": "code",
   "execution_count": 25,
   "metadata": {},
   "outputs": [],
   "source": [
    "raw_mental_fname = \"N-MHSS-2015-DS0001-data-excel.csv\""
   ]
  },
  {
   "cell_type": "code",
   "execution_count": 26,
   "metadata": {},
   "outputs": [
    {
     "name": "stdout",
     "output_type": "stream",
     "text": [
      "number of datapoints: 12826\n"
     ]
    }
   ],
   "source": [
    "# Read the csv file as a pandas df\n",
    "df_mental_raw = pd.read_csv(raw_mental_fname)\n",
    "print(\"number of datapoints: {}\".format(len(df_mental_raw)))"
   ]
  },
  {
   "cell_type": "code",
   "execution_count": 27,
   "metadata": {},
   "outputs": [
    {
     "data": {
      "text/html": [
       "<div>\n",
       "<style scoped>\n",
       "    .dataframe tbody tr th:only-of-type {\n",
       "        vertical-align: middle;\n",
       "    }\n",
       "\n",
       "    .dataframe tbody tr th {\n",
       "        vertical-align: top;\n",
       "    }\n",
       "\n",
       "    .dataframe thead th {\n",
       "        text-align: right;\n",
       "    }\n",
       "</style>\n",
       "<table border=\"1\" class=\"dataframe\">\n",
       "  <thead>\n",
       "    <tr style=\"text-align: right;\">\n",
       "      <th></th>\n",
       "      <th>CASEID</th>\n",
       "      <th>LST</th>\n",
       "      <th>MHINTAKE</th>\n",
       "      <th>MHDIAGEVAL</th>\n",
       "      <th>MHREFERRAL</th>\n",
       "      <th>TREATMT</th>\n",
       "      <th>ADMINSERV</th>\n",
       "      <th>SETTINGIP</th>\n",
       "      <th>SETTINGRC</th>\n",
       "      <th>SETTINGDTPH</th>\n",
       "      <th>...</th>\n",
       "      <th>LICENMH</th>\n",
       "      <th>LICENSED</th>\n",
       "      <th>LICENPH</th>\n",
       "      <th>LICENSEDFCS</th>\n",
       "      <th>LICENHOS</th>\n",
       "      <th>JCAHO</th>\n",
       "      <th>CARF</th>\n",
       "      <th>COA</th>\n",
       "      <th>CMS</th>\n",
       "      <th>OTHSTATE</th>\n",
       "    </tr>\n",
       "  </thead>\n",
       "  <tbody>\n",
       "    <tr>\n",
       "      <th>7843</th>\n",
       "      <td>201507844</td>\n",
       "      <td>NY</td>\n",
       "      <td>0</td>\n",
       "      <td>0</td>\n",
       "      <td>0</td>\n",
       "      <td>0</td>\n",
       "      <td>0</td>\n",
       "      <td>0</td>\n",
       "      <td>1</td>\n",
       "      <td>0</td>\n",
       "      <td>...</td>\n",
       "      <td>0</td>\n",
       "      <td>0</td>\n",
       "      <td>0</td>\n",
       "      <td>0</td>\n",
       "      <td>0</td>\n",
       "      <td>0</td>\n",
       "      <td>0</td>\n",
       "      <td>0</td>\n",
       "      <td>0</td>\n",
       "      <td>0</td>\n",
       "    </tr>\n",
       "    <tr>\n",
       "      <th>6812</th>\n",
       "      <td>201506813</td>\n",
       "      <td>NE</td>\n",
       "      <td>1</td>\n",
       "      <td>1</td>\n",
       "      <td>1</td>\n",
       "      <td>0</td>\n",
       "      <td>0</td>\n",
       "      <td>1</td>\n",
       "      <td>0</td>\n",
       "      <td>1</td>\n",
       "      <td>...</td>\n",
       "      <td>1</td>\n",
       "      <td>0</td>\n",
       "      <td>1</td>\n",
       "      <td>0</td>\n",
       "      <td>1</td>\n",
       "      <td>1</td>\n",
       "      <td>0</td>\n",
       "      <td>0</td>\n",
       "      <td>1</td>\n",
       "      <td>0</td>\n",
       "    </tr>\n",
       "    <tr>\n",
       "      <th>5045</th>\n",
       "      <td>201505046</td>\n",
       "      <td>MD</td>\n",
       "      <td>1</td>\n",
       "      <td>1</td>\n",
       "      <td>1</td>\n",
       "      <td>1</td>\n",
       "      <td>0</td>\n",
       "      <td>0</td>\n",
       "      <td>0</td>\n",
       "      <td>0</td>\n",
       "      <td>...</td>\n",
       "      <td>1</td>\n",
       "      <td>0</td>\n",
       "      <td>0</td>\n",
       "      <td>0</td>\n",
       "      <td>0</td>\n",
       "      <td>0</td>\n",
       "      <td>0</td>\n",
       "      <td>0</td>\n",
       "      <td>0</td>\n",
       "      <td>0</td>\n",
       "    </tr>\n",
       "    <tr>\n",
       "      <th>2781</th>\n",
       "      <td>201502782</td>\n",
       "      <td>FL</td>\n",
       "      <td>1</td>\n",
       "      <td>1</td>\n",
       "      <td>1</td>\n",
       "      <td>1</td>\n",
       "      <td>0</td>\n",
       "      <td>0</td>\n",
       "      <td>0</td>\n",
       "      <td>0</td>\n",
       "      <td>...</td>\n",
       "      <td>0</td>\n",
       "      <td>1</td>\n",
       "      <td>-1</td>\n",
       "      <td>1</td>\n",
       "      <td>-1</td>\n",
       "      <td>-1</td>\n",
       "      <td>1</td>\n",
       "      <td>-1</td>\n",
       "      <td>-1</td>\n",
       "      <td>0</td>\n",
       "    </tr>\n",
       "    <tr>\n",
       "      <th>2321</th>\n",
       "      <td>201502322</td>\n",
       "      <td>DC</td>\n",
       "      <td>1</td>\n",
       "      <td>1</td>\n",
       "      <td>1</td>\n",
       "      <td>1</td>\n",
       "      <td>0</td>\n",
       "      <td>1</td>\n",
       "      <td>0</td>\n",
       "      <td>1</td>\n",
       "      <td>...</td>\n",
       "      <td>1</td>\n",
       "      <td>1</td>\n",
       "      <td>1</td>\n",
       "      <td>1</td>\n",
       "      <td>1</td>\n",
       "      <td>1</td>\n",
       "      <td>0</td>\n",
       "      <td>0</td>\n",
       "      <td>1</td>\n",
       "      <td>0</td>\n",
       "    </tr>\n",
       "    <tr>\n",
       "      <th>5747</th>\n",
       "      <td>201505748</td>\n",
       "      <td>MI</td>\n",
       "      <td>1</td>\n",
       "      <td>1</td>\n",
       "      <td>1</td>\n",
       "      <td>1</td>\n",
       "      <td>0</td>\n",
       "      <td>0</td>\n",
       "      <td>0</td>\n",
       "      <td>0</td>\n",
       "      <td>...</td>\n",
       "      <td>0</td>\n",
       "      <td>1</td>\n",
       "      <td>0</td>\n",
       "      <td>0</td>\n",
       "      <td>0</td>\n",
       "      <td>1</td>\n",
       "      <td>0</td>\n",
       "      <td>0</td>\n",
       "      <td>0</td>\n",
       "      <td>0</td>\n",
       "    </tr>\n",
       "    <tr>\n",
       "      <th>8879</th>\n",
       "      <td>201508880</td>\n",
       "      <td>OH</td>\n",
       "      <td>1</td>\n",
       "      <td>1</td>\n",
       "      <td>0</td>\n",
       "      <td>0</td>\n",
       "      <td>1</td>\n",
       "      <td>0</td>\n",
       "      <td>0</td>\n",
       "      <td>0</td>\n",
       "      <td>...</td>\n",
       "      <td>1</td>\n",
       "      <td>0</td>\n",
       "      <td>1</td>\n",
       "      <td>0</td>\n",
       "      <td>0</td>\n",
       "      <td>0</td>\n",
       "      <td>1</td>\n",
       "      <td>0</td>\n",
       "      <td>1</td>\n",
       "      <td>0</td>\n",
       "    </tr>\n",
       "    <tr>\n",
       "      <th>5149</th>\n",
       "      <td>201505150</td>\n",
       "      <td>MD</td>\n",
       "      <td>0</td>\n",
       "      <td>0</td>\n",
       "      <td>0</td>\n",
       "      <td>0</td>\n",
       "      <td>0</td>\n",
       "      <td>0</td>\n",
       "      <td>1</td>\n",
       "      <td>0</td>\n",
       "      <td>...</td>\n",
       "      <td>1</td>\n",
       "      <td>0</td>\n",
       "      <td>1</td>\n",
       "      <td>1</td>\n",
       "      <td>0</td>\n",
       "      <td>0</td>\n",
       "      <td>1</td>\n",
       "      <td>0</td>\n",
       "      <td>0</td>\n",
       "      <td>0</td>\n",
       "    </tr>\n",
       "    <tr>\n",
       "      <th>12486</th>\n",
       "      <td>201512487</td>\n",
       "      <td>WI</td>\n",
       "      <td>1</td>\n",
       "      <td>1</td>\n",
       "      <td>1</td>\n",
       "      <td>1</td>\n",
       "      <td>1</td>\n",
       "      <td>0</td>\n",
       "      <td>0</td>\n",
       "      <td>0</td>\n",
       "      <td>...</td>\n",
       "      <td>1</td>\n",
       "      <td>0</td>\n",
       "      <td>0</td>\n",
       "      <td>1</td>\n",
       "      <td>0</td>\n",
       "      <td>0</td>\n",
       "      <td>0</td>\n",
       "      <td>0</td>\n",
       "      <td>0</td>\n",
       "      <td>0</td>\n",
       "    </tr>\n",
       "    <tr>\n",
       "      <th>2675</th>\n",
       "      <td>201502676</td>\n",
       "      <td>FL</td>\n",
       "      <td>1</td>\n",
       "      <td>1</td>\n",
       "      <td>1</td>\n",
       "      <td>0</td>\n",
       "      <td>0</td>\n",
       "      <td>1</td>\n",
       "      <td>0</td>\n",
       "      <td>0</td>\n",
       "      <td>...</td>\n",
       "      <td>1</td>\n",
       "      <td>0</td>\n",
       "      <td>1</td>\n",
       "      <td>1</td>\n",
       "      <td>1</td>\n",
       "      <td>1</td>\n",
       "      <td>0</td>\n",
       "      <td>0</td>\n",
       "      <td>1</td>\n",
       "      <td>0</td>\n",
       "    </tr>\n",
       "  </tbody>\n",
       "</table>\n",
       "<p>10 rows × 139 columns</p>\n",
       "</div>"
      ],
      "text/plain": [
       "          CASEID LST  MHINTAKE  MHDIAGEVAL  MHREFERRAL  TREATMT  ADMINSERV  \\\n",
       "7843   201507844  NY         0           0           0        0          0   \n",
       "6812   201506813  NE         1           1           1        0          0   \n",
       "5045   201505046  MD         1           1           1        1          0   \n",
       "2781   201502782  FL         1           1           1        1          0   \n",
       "2321   201502322  DC         1           1           1        1          0   \n",
       "5747   201505748  MI         1           1           1        1          0   \n",
       "8879   201508880  OH         1           1           0        0          1   \n",
       "5149   201505150  MD         0           0           0        0          0   \n",
       "12486  201512487  WI         1           1           1        1          1   \n",
       "2675   201502676  FL         1           1           1        0          0   \n",
       "\n",
       "       SETTINGIP  SETTINGRC  SETTINGDTPH    ...     LICENMH  LICENSED  \\\n",
       "7843           0          1            0    ...           0         0   \n",
       "6812           1          0            1    ...           1         0   \n",
       "5045           0          0            0    ...           1         0   \n",
       "2781           0          0            0    ...           0         1   \n",
       "2321           1          0            1    ...           1         1   \n",
       "5747           0          0            0    ...           0         1   \n",
       "8879           0          0            0    ...           1         0   \n",
       "5149           0          1            0    ...           1         0   \n",
       "12486          0          0            0    ...           1         0   \n",
       "2675           1          0            0    ...           1         0   \n",
       "\n",
       "       LICENPH  LICENSEDFCS  LICENHOS  JCAHO  CARF  COA  CMS  OTHSTATE  \n",
       "7843         0            0         0      0     0    0    0         0  \n",
       "6812         1            0         1      1     0    0    1         0  \n",
       "5045         0            0         0      0     0    0    0         0  \n",
       "2781        -1            1        -1     -1     1   -1   -1         0  \n",
       "2321         1            1         1      1     0    0    1         0  \n",
       "5747         0            0         0      1     0    0    0         0  \n",
       "8879         1            0         0      0     1    0    1         0  \n",
       "5149         1            1         0      0     1    0    0         0  \n",
       "12486        0            1         0      0     0    0    0         0  \n",
       "2675         1            1         1      1     0    0    1         0  \n",
       "\n",
       "[10 rows x 139 columns]"
      ]
     },
     "execution_count": 27,
     "metadata": {},
     "output_type": "execute_result"
    }
   ],
   "source": [
    "df_mental_raw.sample(10)"
   ]
  },
  {
   "cell_type": "markdown",
   "metadata": {},
   "source": [
    "### select only valid values"
   ]
  },
  {
   "cell_type": "code",
   "execution_count": 28,
   "metadata": {},
   "outputs": [
    {
     "data": {
      "text/plain": [
       "12411"
      ]
     },
     "execution_count": 28,
     "metadata": {},
     "output_type": "execute_result"
    }
   ],
   "source": [
    "treat_var = ['TREATPSYCHOTHRPY', \n",
    "             'TREATFAMTHRPY', \n",
    "             'TREATGRPTHRPY', \n",
    "             'TREATCOGTHRPY', \n",
    "             'TREATDIALTHRPY', \n",
    "             'TREATBEHAVMOD', \n",
    "             'TREATDUALMHSA', \n",
    "             'TREATTRAUMATHRPY', \n",
    "             'TREATACTVTYTHRPY', \n",
    "             'TREATELECTRO', \n",
    "             'TREATTELEMEDINCE', \n",
    "             'TREATPSYCHOMED',\n",
    "             'PAYASST',\n",
    "             'CRISISTEAM2']\n",
    "\n",
    "for i in treat_var:\n",
    "    df_mental_raw = df_mental_raw[(df_mental_raw[i] == 0) | (df_mental_raw[i] == 1)]\n",
    "len(df_mental_raw)"
   ]
  },
  {
   "cell_type": "code",
   "execution_count": 29,
   "metadata": {},
   "outputs": [],
   "source": [
    "# aggregate the data by State\n",
    "df_mental_count = df_mental_raw.groupby([df_mental_raw[\"LST\"]]).count()\n",
    "df_mental = df_mental_raw.groupby([df_mental_raw[\"LST\"]]).mean()"
   ]
  },
  {
   "cell_type": "code",
   "execution_count": 30,
   "metadata": {},
   "outputs": [
    {
     "data": {
      "text/html": [
       "<div>\n",
       "<style scoped>\n",
       "    .dataframe tbody tr th:only-of-type {\n",
       "        vertical-align: middle;\n",
       "    }\n",
       "\n",
       "    .dataframe tbody tr th {\n",
       "        vertical-align: top;\n",
       "    }\n",
       "\n",
       "    .dataframe thead th {\n",
       "        text-align: right;\n",
       "    }\n",
       "</style>\n",
       "<table border=\"1\" class=\"dataframe\">\n",
       "  <thead>\n",
       "    <tr style=\"text-align: right;\">\n",
       "      <th></th>\n",
       "      <th>CASEID</th>\n",
       "      <th>MHINTAKE</th>\n",
       "      <th>MHDIAGEVAL</th>\n",
       "      <th>MHREFERRAL</th>\n",
       "      <th>TREATMT</th>\n",
       "      <th>ADMINSERV</th>\n",
       "      <th>SETTINGIP</th>\n",
       "      <th>SETTINGRC</th>\n",
       "      <th>SETTINGDTPH</th>\n",
       "      <th>SETTINGOP</th>\n",
       "      <th>...</th>\n",
       "      <th>LICENMH</th>\n",
       "      <th>LICENSED</th>\n",
       "      <th>LICENPH</th>\n",
       "      <th>LICENSEDFCS</th>\n",
       "      <th>LICENHOS</th>\n",
       "      <th>JCAHO</th>\n",
       "      <th>CARF</th>\n",
       "      <th>COA</th>\n",
       "      <th>CMS</th>\n",
       "      <th>OTHSTATE</th>\n",
       "    </tr>\n",
       "    <tr>\n",
       "      <th>LST</th>\n",
       "      <th></th>\n",
       "      <th></th>\n",
       "      <th></th>\n",
       "      <th></th>\n",
       "      <th></th>\n",
       "      <th></th>\n",
       "      <th></th>\n",
       "      <th></th>\n",
       "      <th></th>\n",
       "      <th></th>\n",
       "      <th></th>\n",
       "      <th></th>\n",
       "      <th></th>\n",
       "      <th></th>\n",
       "      <th></th>\n",
       "      <th></th>\n",
       "      <th></th>\n",
       "      <th></th>\n",
       "      <th></th>\n",
       "      <th></th>\n",
       "      <th></th>\n",
       "    </tr>\n",
       "  </thead>\n",
       "  <tbody>\n",
       "    <tr>\n",
       "      <th>AK</th>\n",
       "      <td>2.015002e+08</td>\n",
       "      <td>0.871287</td>\n",
       "      <td>0.891089</td>\n",
       "      <td>0.831683</td>\n",
       "      <td>0.693069</td>\n",
       "      <td>0.792079</td>\n",
       "      <td>0.089109</td>\n",
       "      <td>0.306931</td>\n",
       "      <td>0.079208</td>\n",
       "      <td>0.742574</td>\n",
       "      <td>...</td>\n",
       "      <td>0.663366</td>\n",
       "      <td>0.287129</td>\n",
       "      <td>0.445545</td>\n",
       "      <td>0.237624</td>\n",
       "      <td>0.069307</td>\n",
       "      <td>0.217822</td>\n",
       "      <td>0.366337</td>\n",
       "      <td>0.227723</td>\n",
       "      <td>0.297030</td>\n",
       "      <td>0.000000</td>\n",
       "    </tr>\n",
       "    <tr>\n",
       "      <th>AL</th>\n",
       "      <td>2.015001e+08</td>\n",
       "      <td>0.880208</td>\n",
       "      <td>0.828125</td>\n",
       "      <td>0.822917</td>\n",
       "      <td>0.312500</td>\n",
       "      <td>0.546875</td>\n",
       "      <td>0.223958</td>\n",
       "      <td>0.223958</td>\n",
       "      <td>0.328125</td>\n",
       "      <td>0.578125</td>\n",
       "      <td>...</td>\n",
       "      <td>0.838542</td>\n",
       "      <td>0.218750</td>\n",
       "      <td>0.218750</td>\n",
       "      <td>0.036458</td>\n",
       "      <td>0.114583</td>\n",
       "      <td>0.307292</td>\n",
       "      <td>0.062500</td>\n",
       "      <td>0.026042</td>\n",
       "      <td>0.401042</td>\n",
       "      <td>0.010417</td>\n",
       "    </tr>\n",
       "    <tr>\n",
       "      <th>AR</th>\n",
       "      <td>2.015008e+08</td>\n",
       "      <td>0.940239</td>\n",
       "      <td>0.960159</td>\n",
       "      <td>0.936255</td>\n",
       "      <td>0.354582</td>\n",
       "      <td>0.498008</td>\n",
       "      <td>0.139442</td>\n",
       "      <td>0.127490</td>\n",
       "      <td>0.346614</td>\n",
       "      <td>0.836653</td>\n",
       "      <td>...</td>\n",
       "      <td>0.689243</td>\n",
       "      <td>0.183267</td>\n",
       "      <td>0.410359</td>\n",
       "      <td>0.223108</td>\n",
       "      <td>0.059761</td>\n",
       "      <td>0.350598</td>\n",
       "      <td>0.513944</td>\n",
       "      <td>0.039841</td>\n",
       "      <td>0.442231</td>\n",
       "      <td>0.023904</td>\n",
       "    </tr>\n",
       "  </tbody>\n",
       "</table>\n",
       "<p>3 rows × 138 columns</p>\n",
       "</div>"
      ],
      "text/plain": [
       "           CASEID  MHINTAKE  MHDIAGEVAL  MHREFERRAL   TREATMT  ADMINSERV  \\\n",
       "LST                                                                        \n",
       "AK   2.015002e+08  0.871287    0.891089    0.831683  0.693069   0.792079   \n",
       "AL   2.015001e+08  0.880208    0.828125    0.822917  0.312500   0.546875   \n",
       "AR   2.015008e+08  0.940239    0.960159    0.936255  0.354582   0.498008   \n",
       "\n",
       "     SETTINGIP  SETTINGRC  SETTINGDTPH  SETTINGOP    ...      LICENMH  \\\n",
       "LST                                                  ...                \n",
       "AK    0.089109   0.306931     0.079208   0.742574    ...     0.663366   \n",
       "AL    0.223958   0.223958     0.328125   0.578125    ...     0.838542   \n",
       "AR    0.139442   0.127490     0.346614   0.836653    ...     0.689243   \n",
       "\n",
       "     LICENSED   LICENPH  LICENSEDFCS  LICENHOS     JCAHO      CARF       COA  \\\n",
       "LST                                                                            \n",
       "AK   0.287129  0.445545     0.237624  0.069307  0.217822  0.366337  0.227723   \n",
       "AL   0.218750  0.218750     0.036458  0.114583  0.307292  0.062500  0.026042   \n",
       "AR   0.183267  0.410359     0.223108  0.059761  0.350598  0.513944  0.039841   \n",
       "\n",
       "          CMS  OTHSTATE  \n",
       "LST                      \n",
       "AK   0.297030  0.000000  \n",
       "AL   0.401042  0.010417  \n",
       "AR   0.442231  0.023904  \n",
       "\n",
       "[3 rows x 138 columns]"
      ]
     },
     "execution_count": 30,
     "metadata": {},
     "output_type": "execute_result"
    }
   ],
   "source": [
    "df_mental.head(3)"
   ]
  },
  {
   "cell_type": "code",
   "execution_count": 31,
   "metadata": {},
   "outputs": [
    {
     "data": {
      "text/html": [
       "<div>\n",
       "<style scoped>\n",
       "    .dataframe tbody tr th:only-of-type {\n",
       "        vertical-align: middle;\n",
       "    }\n",
       "\n",
       "    .dataframe tbody tr th {\n",
       "        vertical-align: top;\n",
       "    }\n",
       "\n",
       "    .dataframe thead th {\n",
       "        text-align: right;\n",
       "    }\n",
       "</style>\n",
       "<table border=\"1\" class=\"dataframe\">\n",
       "  <thead>\n",
       "    <tr style=\"text-align: right;\">\n",
       "      <th></th>\n",
       "      <th>CASEID</th>\n",
       "      <th>MHINTAKE</th>\n",
       "      <th>MHDIAGEVAL</th>\n",
       "      <th>MHREFERRAL</th>\n",
       "      <th>TREATMT</th>\n",
       "      <th>ADMINSERV</th>\n",
       "      <th>SETTINGIP</th>\n",
       "      <th>SETTINGRC</th>\n",
       "      <th>SETTINGDTPH</th>\n",
       "      <th>SETTINGOP</th>\n",
       "      <th>...</th>\n",
       "      <th>LICENMH</th>\n",
       "      <th>LICENSED</th>\n",
       "      <th>LICENPH</th>\n",
       "      <th>LICENSEDFCS</th>\n",
       "      <th>LICENHOS</th>\n",
       "      <th>JCAHO</th>\n",
       "      <th>CARF</th>\n",
       "      <th>COA</th>\n",
       "      <th>CMS</th>\n",
       "      <th>OTHSTATE</th>\n",
       "    </tr>\n",
       "    <tr>\n",
       "      <th>LST</th>\n",
       "      <th></th>\n",
       "      <th></th>\n",
       "      <th></th>\n",
       "      <th></th>\n",
       "      <th></th>\n",
       "      <th></th>\n",
       "      <th></th>\n",
       "      <th></th>\n",
       "      <th></th>\n",
       "      <th></th>\n",
       "      <th></th>\n",
       "      <th></th>\n",
       "      <th></th>\n",
       "      <th></th>\n",
       "      <th></th>\n",
       "      <th></th>\n",
       "      <th></th>\n",
       "      <th></th>\n",
       "      <th></th>\n",
       "      <th></th>\n",
       "      <th></th>\n",
       "    </tr>\n",
       "  </thead>\n",
       "  <tbody>\n",
       "    <tr>\n",
       "      <th>AK</th>\n",
       "      <td>101</td>\n",
       "      <td>101</td>\n",
       "      <td>101</td>\n",
       "      <td>101</td>\n",
       "      <td>101</td>\n",
       "      <td>101</td>\n",
       "      <td>101</td>\n",
       "      <td>101</td>\n",
       "      <td>101</td>\n",
       "      <td>101</td>\n",
       "      <td>...</td>\n",
       "      <td>101</td>\n",
       "      <td>101</td>\n",
       "      <td>101</td>\n",
       "      <td>101</td>\n",
       "      <td>101</td>\n",
       "      <td>101</td>\n",
       "      <td>101</td>\n",
       "      <td>101</td>\n",
       "      <td>101</td>\n",
       "      <td>101</td>\n",
       "    </tr>\n",
       "    <tr>\n",
       "      <th>AL</th>\n",
       "      <td>192</td>\n",
       "      <td>192</td>\n",
       "      <td>192</td>\n",
       "      <td>192</td>\n",
       "      <td>192</td>\n",
       "      <td>192</td>\n",
       "      <td>192</td>\n",
       "      <td>192</td>\n",
       "      <td>192</td>\n",
       "      <td>192</td>\n",
       "      <td>...</td>\n",
       "      <td>192</td>\n",
       "      <td>192</td>\n",
       "      <td>192</td>\n",
       "      <td>192</td>\n",
       "      <td>192</td>\n",
       "      <td>192</td>\n",
       "      <td>192</td>\n",
       "      <td>192</td>\n",
       "      <td>192</td>\n",
       "      <td>192</td>\n",
       "    </tr>\n",
       "    <tr>\n",
       "      <th>AR</th>\n",
       "      <td>251</td>\n",
       "      <td>251</td>\n",
       "      <td>251</td>\n",
       "      <td>251</td>\n",
       "      <td>251</td>\n",
       "      <td>251</td>\n",
       "      <td>251</td>\n",
       "      <td>251</td>\n",
       "      <td>251</td>\n",
       "      <td>251</td>\n",
       "      <td>...</td>\n",
       "      <td>251</td>\n",
       "      <td>251</td>\n",
       "      <td>251</td>\n",
       "      <td>251</td>\n",
       "      <td>251</td>\n",
       "      <td>251</td>\n",
       "      <td>251</td>\n",
       "      <td>251</td>\n",
       "      <td>251</td>\n",
       "      <td>251</td>\n",
       "    </tr>\n",
       "  </tbody>\n",
       "</table>\n",
       "<p>3 rows × 138 columns</p>\n",
       "</div>"
      ],
      "text/plain": [
       "     CASEID  MHINTAKE  MHDIAGEVAL  MHREFERRAL  TREATMT  ADMINSERV  SETTINGIP  \\\n",
       "LST                                                                            \n",
       "AK      101       101         101         101      101        101        101   \n",
       "AL      192       192         192         192      192        192        192   \n",
       "AR      251       251         251         251      251        251        251   \n",
       "\n",
       "     SETTINGRC  SETTINGDTPH  SETTINGOP    ...     LICENMH  LICENSED  LICENPH  \\\n",
       "LST                                       ...                                  \n",
       "AK         101          101        101    ...         101       101      101   \n",
       "AL         192          192        192    ...         192       192      192   \n",
       "AR         251          251        251    ...         251       251      251   \n",
       "\n",
       "     LICENSEDFCS  LICENHOS  JCAHO  CARF  COA  CMS  OTHSTATE  \n",
       "LST                                                          \n",
       "AK           101       101    101   101  101  101       101  \n",
       "AL           192       192    192   192  192  192       192  \n",
       "AR           251       251    251   251  251  251       251  \n",
       "\n",
       "[3 rows x 138 columns]"
      ]
     },
     "execution_count": 31,
     "metadata": {},
     "output_type": "execute_result"
    }
   ],
   "source": [
    "df_mental_count.head(3)"
   ]
  },
  {
   "cell_type": "markdown",
   "metadata": {},
   "source": [
    "## Step 1.3:Merge the two datasets"
   ]
  },
  {
   "cell_type": "code",
   "execution_count": 32,
   "metadata": {},
   "outputs": [],
   "source": [
    "# using us convert the abbreviations to full state names\n",
    "def conversion(x):\n",
    "    return str(us.states.lookup(x))"
   ]
  },
  {
   "cell_type": "code",
   "execution_count": 33,
   "metadata": {},
   "outputs": [],
   "source": [
    "# use the above function to translate abbrev to state\n",
    "df_mental[\"State\"] = df_mental.index\n",
    "df_mental[\"State\"] = df_mental[\"State\"].apply(conversion)"
   ]
  },
  {
   "cell_type": "code",
   "execution_count": 34,
   "metadata": {},
   "outputs": [],
   "source": [
    "# merge df_death into df_mental calling new df as df_mega \n",
    "#Index on 'State' on both to be safe\n",
    "df_mega = df_death.merge(df_mental, left_on='State', right_on='State')\n",
    "\n",
    "# set the index to 'State Code'\n",
    "df_mega = df_mega.set_index('State Code')"
   ]
  },
  {
   "cell_type": "code",
   "execution_count": 35,
   "metadata": {},
   "outputs": [
    {
     "data": {
      "text/html": [
       "<div>\n",
       "<style scoped>\n",
       "    .dataframe tbody tr th:only-of-type {\n",
       "        vertical-align: middle;\n",
       "    }\n",
       "\n",
       "    .dataframe tbody tr th {\n",
       "        vertical-align: top;\n",
       "    }\n",
       "\n",
       "    .dataframe thead th {\n",
       "        text-align: right;\n",
       "    }\n",
       "</style>\n",
       "<table border=\"1\" class=\"dataframe\">\n",
       "  <thead>\n",
       "    <tr style=\"text-align: right;\">\n",
       "      <th></th>\n",
       "      <th>State</th>\n",
       "      <th>Deaths</th>\n",
       "      <th>Population</th>\n",
       "      <th>Crude Rate</th>\n",
       "      <th>CASEID</th>\n",
       "      <th>MHINTAKE</th>\n",
       "      <th>MHDIAGEVAL</th>\n",
       "      <th>MHREFERRAL</th>\n",
       "      <th>TREATMT</th>\n",
       "      <th>ADMINSERV</th>\n",
       "      <th>...</th>\n",
       "      <th>LICENMH</th>\n",
       "      <th>LICENSED</th>\n",
       "      <th>LICENPH</th>\n",
       "      <th>LICENSEDFCS</th>\n",
       "      <th>LICENHOS</th>\n",
       "      <th>JCAHO</th>\n",
       "      <th>CARF</th>\n",
       "      <th>COA</th>\n",
       "      <th>CMS</th>\n",
       "      <th>OTHSTATE</th>\n",
       "    </tr>\n",
       "    <tr>\n",
       "      <th>State Code</th>\n",
       "      <th></th>\n",
       "      <th></th>\n",
       "      <th></th>\n",
       "      <th></th>\n",
       "      <th></th>\n",
       "      <th></th>\n",
       "      <th></th>\n",
       "      <th></th>\n",
       "      <th></th>\n",
       "      <th></th>\n",
       "      <th></th>\n",
       "      <th></th>\n",
       "      <th></th>\n",
       "      <th></th>\n",
       "      <th></th>\n",
       "      <th></th>\n",
       "      <th></th>\n",
       "      <th></th>\n",
       "      <th></th>\n",
       "      <th></th>\n",
       "      <th></th>\n",
       "    </tr>\n",
       "  </thead>\n",
       "  <tbody>\n",
       "    <tr>\n",
       "      <th>1</th>\n",
       "      <td>Alabama</td>\n",
       "      <td>425</td>\n",
       "      <td>4858979</td>\n",
       "      <td>8.747</td>\n",
       "      <td>2.015001e+08</td>\n",
       "      <td>0.880208</td>\n",
       "      <td>0.828125</td>\n",
       "      <td>0.822917</td>\n",
       "      <td>0.312500</td>\n",
       "      <td>0.546875</td>\n",
       "      <td>...</td>\n",
       "      <td>0.838542</td>\n",
       "      <td>0.218750</td>\n",
       "      <td>0.218750</td>\n",
       "      <td>0.036458</td>\n",
       "      <td>0.114583</td>\n",
       "      <td>0.307292</td>\n",
       "      <td>0.062500</td>\n",
       "      <td>0.026042</td>\n",
       "      <td>0.401042</td>\n",
       "      <td>0.010417</td>\n",
       "    </tr>\n",
       "    <tr>\n",
       "      <th>2</th>\n",
       "      <td>Alaska</td>\n",
       "      <td>52</td>\n",
       "      <td>738432</td>\n",
       "      <td>7.042</td>\n",
       "      <td>2.015002e+08</td>\n",
       "      <td>0.871287</td>\n",
       "      <td>0.891089</td>\n",
       "      <td>0.831683</td>\n",
       "      <td>0.693069</td>\n",
       "      <td>0.792079</td>\n",
       "      <td>...</td>\n",
       "      <td>0.663366</td>\n",
       "      <td>0.287129</td>\n",
       "      <td>0.445545</td>\n",
       "      <td>0.237624</td>\n",
       "      <td>0.069307</td>\n",
       "      <td>0.217822</td>\n",
       "      <td>0.366337</td>\n",
       "      <td>0.227723</td>\n",
       "      <td>0.297030</td>\n",
       "      <td>0.000000</td>\n",
       "    </tr>\n",
       "    <tr>\n",
       "      <th>4</th>\n",
       "      <td>Arizona</td>\n",
       "      <td>249</td>\n",
       "      <td>6828065</td>\n",
       "      <td>3.647</td>\n",
       "      <td>2.015005e+08</td>\n",
       "      <td>0.739474</td>\n",
       "      <td>0.723684</td>\n",
       "      <td>0.631579</td>\n",
       "      <td>0.742105</td>\n",
       "      <td>0.597368</td>\n",
       "      <td>...</td>\n",
       "      <td>0.615789</td>\n",
       "      <td>0.200000</td>\n",
       "      <td>0.755263</td>\n",
       "      <td>0.118421</td>\n",
       "      <td>0.052632</td>\n",
       "      <td>0.200000</td>\n",
       "      <td>0.215789</td>\n",
       "      <td>0.052632</td>\n",
       "      <td>0.244737</td>\n",
       "      <td>0.047368</td>\n",
       "    </tr>\n",
       "  </tbody>\n",
       "</table>\n",
       "<p>3 rows × 142 columns</p>\n",
       "</div>"
      ],
      "text/plain": [
       "              State  Deaths  Population Crude Rate        CASEID  MHINTAKE  \\\n",
       "State Code                                                                   \n",
       "1           Alabama     425     4858979      8.747  2.015001e+08  0.880208   \n",
       "2            Alaska      52      738432      7.042  2.015002e+08  0.871287   \n",
       "4           Arizona     249     6828065      3.647  2.015005e+08  0.739474   \n",
       "\n",
       "            MHDIAGEVAL  MHREFERRAL   TREATMT  ADMINSERV    ...      LICENMH  \\\n",
       "State Code                                                 ...                \n",
       "1             0.828125    0.822917  0.312500   0.546875    ...     0.838542   \n",
       "2             0.891089    0.831683  0.693069   0.792079    ...     0.663366   \n",
       "4             0.723684    0.631579  0.742105   0.597368    ...     0.615789   \n",
       "\n",
       "            LICENSED   LICENPH  LICENSEDFCS  LICENHOS     JCAHO      CARF  \\\n",
       "State Code                                                                  \n",
       "1           0.218750  0.218750     0.036458  0.114583  0.307292  0.062500   \n",
       "2           0.287129  0.445545     0.237624  0.069307  0.217822  0.366337   \n",
       "4           0.200000  0.755263     0.118421  0.052632  0.200000  0.215789   \n",
       "\n",
       "                 COA       CMS  OTHSTATE  \n",
       "State Code                                \n",
       "1           0.026042  0.401042  0.010417  \n",
       "2           0.227723  0.297030  0.000000  \n",
       "4           0.052632  0.244737  0.047368  \n",
       "\n",
       "[3 rows x 142 columns]"
      ]
     },
     "execution_count": 35,
     "metadata": {},
     "output_type": "execute_result"
    }
   ],
   "source": [
    "df_mega.head(3)"
   ]
  },
  {
   "cell_type": "markdown",
   "metadata": {},
   "source": [
    "# 1.\tGun deaths vs Dimension Reduction of TREAT series besides NOTREAT (TREATPSYCHOTHRPY/TREATGRPTHRPY/TREATCOGTHRPY, etc)"
   ]
  },
  {
   "cell_type": "markdown",
   "metadata": {},
   "source": [
    "Create a mean measure for the different treatment options (i.e. aggregate TREAT series)"
   ]
  },
  {
   "cell_type": "code",
   "execution_count": 36,
   "metadata": {},
   "outputs": [],
   "source": [
    "treat_total = df_mega['TREATPSYCHOTHRPY'] + \\\n",
    "    df_mega['TREATFAMTHRPY'] +\\\n",
    "    df_mega['TREATGRPTHRPY'] +\\\n",
    "    df_mega['TREATCOGTHRPY'] +\\\n",
    "    df_mega['TREATDIALTHRPY'] +\\\n",
    "    df_mega['TREATBEHAVMOD'] +\\\n",
    "    df_mega['TREATDUALMHSA'] +\\\n",
    "    df_mega['TREATTRAUMATHRPY'] +\\\n",
    "    df_mega['TREATACTVTYTHRPY'] +\\\n",
    "    df_mega['TREATELECTRO'] +\\\n",
    "    df_mega['TREATTELEMEDINCE'] +\\\n",
    "    df_mega['TREATPSYCHOMED']\n",
    "treat_avg = treat_total/12"
   ]
  },
  {
   "cell_type": "code",
   "execution_count": 37,
   "metadata": {},
   "outputs": [],
   "source": [
    "df_mega['treat_agg'] = treat_avg"
   ]
  },
  {
   "cell_type": "code",
   "execution_count": 38,
   "metadata": {},
   "outputs": [
    {
     "data": {
      "text/plain": [
       "count    50.000000\n",
       "mean      0.589880\n",
       "std       0.052375\n",
       "min       0.487487\n",
       "25%       0.554853\n",
       "50%       0.580228\n",
       "75%       0.602303\n",
       "max       0.709596\n",
       "Name: treat_agg, dtype: float64"
      ]
     },
     "execution_count": 38,
     "metadata": {},
     "output_type": "execute_result"
    }
   ],
   "source": [
    "df_mega['treat_agg'].describe()"
   ]
  },
  {
   "cell_type": "markdown",
   "metadata": {},
   "source": [
    "Check normality"
   ]
  },
  {
   "cell_type": "code",
   "execution_count": 39,
   "metadata": {},
   "outputs": [
    {
     "data": {
      "text/plain": [
       "<matplotlib.axes._subplots.AxesSubplot at 0x12e57c38b38>"
      ]
     },
     "execution_count": 39,
     "metadata": {},
     "output_type": "execute_result"
    },
    {
     "data": {
      "image/png": "[encoded data removed]",
      "text/plain": [
       "<Figure size 432x288 with 1 Axes>"
      ]
     },
     "metadata": {},
     "output_type": "display_data"
    }
   ],
   "source": [
    "# Check normality of Deaths\n",
    "qntls, xr = stats.probplot(df_mega['Deaths'], fit=False)\n",
    "sns.regplot(xr,qntls)"
   ]
  },
  {
   "cell_type": "code",
   "execution_count": 40,
   "metadata": {},
   "outputs": [],
   "source": [
    "# Log transform non normal Deaths variable\n",
    "df_mega['log_Deaths'] = df_mega['Deaths'].apply(lambda x: np.log(x))"
   ]
  },
  {
   "cell_type": "code",
   "execution_count": 41,
   "metadata": {},
   "outputs": [
    {
     "data": {
      "text/plain": [
       "<matplotlib.axes._subplots.AxesSubplot at 0x12e57d09d30>"
      ]
     },
     "execution_count": 41,
     "metadata": {},
     "output_type": "execute_result"
    },
    {
     "data": {
      "image/png": "[encoded data removed]",
      "text/plain": [
       "<Figure size 432x288 with 1 Axes>"
      ]
     },
     "metadata": {},
     "output_type": "display_data"
    }
   ],
   "source": [
    "# Check normality with transformed data\n",
    "qntls, xr = stats.probplot(df_mega['log_Deaths'], fit=False)\n",
    "sns.regplot(xr,qntls)"
   ]
  },
  {
   "cell_type": "code",
   "execution_count": 42,
   "metadata": {},
   "outputs": [
    {
     "data": {
      "text/plain": [
       "<matplotlib.axes._subplots.AxesSubplot at 0x12e57d6c588>"
      ]
     },
     "execution_count": 42,
     "metadata": {},
     "output_type": "execute_result"
    },
    {
     "data": {
      "image/png": "[encoded data removed]",
      "text/plain": [
       "<Figure size 432x288 with 1 Axes>"
      ]
     },
     "metadata": {},
     "output_type": "display_data"
    }
   ],
   "source": [
    "# Check normality of treat_agg\n",
    "qntls, xr = stats.probplot(df_mega['treat_agg'], fit=False)\n",
    "sns.regplot(xr,qntls)"
   ]
  },
  {
   "cell_type": "code",
   "execution_count": 43,
   "metadata": {},
   "outputs": [
    {
     "data": {
      "text/plain": [
       "-0.31002768580099405"
      ]
     },
     "execution_count": 43,
     "metadata": {},
     "output_type": "execute_result"
    }
   ],
   "source": [
    "df_mega['log_Deaths'].corr(df_mega['treat_agg'])"
   ]
  },
  {
   "cell_type": "code",
   "execution_count": 44,
   "metadata": {},
   "outputs": [
    {
     "name": "stderr",
     "output_type": "stream",
     "text": [
      "c:\\program files\\python36\\lib\\site-packages\\matplotlib\\axes\\_axes.py:6462: UserWarning: The 'normed' kwarg is deprecated, and has been replaced by the 'density' kwarg.\n",
      "  warnings.warn(\"The 'normed' kwarg is deprecated, and has been \"\n"
     ]
    },
    {
     "data": {
      "image/png": "[encoded data removed]",
      "text/plain": [
       "<Figure size 432x432 with 3 Axes>"
      ]
     },
     "metadata": {},
     "output_type": "display_data"
    }
   ],
   "source": [
    "# Plot the two variables together\n",
    "g = sns.JointGrid(x='treat_agg',y='log_Deaths', data=df_mega)\n",
    "g = g.plot(sns.regplot, sns.distplot)\n",
    "g = g.annotate(stats.pearsonr)"
   ]
  },
  {
   "cell_type": "markdown",
   "metadata": {},
   "source": [
    "Maybe a PCA analysis on the TREAT series might be nice..."
   ]
  },
  {
   "cell_type": "markdown",
   "metadata": {},
   "source": [
    "# 2.\tGun deaths vs  (MHPSYCHREHAB: Psychosocial Rehabilitation services, MHEMGCY: Psychiatric emergency walk-in services, MHSUICIDE: Suicide prevention services)"
   ]
  },
  {
   "cell_type": "code",
   "execution_count": 45,
   "metadata": {},
   "outputs": [],
   "source": [
    "rehab_total = df_mega['MHPSYCHREHAB'] + \\\n",
    "    df_mega['MHEMGCY'] +\\\n",
    "    df_mega['MHSUICIDE']\n",
    "rehab_avg = rehab_total/3"
   ]
  },
  {
   "cell_type": "code",
   "execution_count": 46,
   "metadata": {},
   "outputs": [],
   "source": [
    "df_mega['rehab_agg'] = rehab_avg"
   ]
  },
  {
   "cell_type": "code",
   "execution_count": 47,
   "metadata": {},
   "outputs": [
    {
     "data": {
      "text/plain": [
       "<matplotlib.axes._subplots.AxesSubplot at 0x12e57f605c0>"
      ]
     },
     "execution_count": 47,
     "metadata": {},
     "output_type": "execute_result"
    },
    {
     "data": {
      "image/png": "[encoded data removed]",
      "text/plain": [
       "<Figure size 432x288 with 1 Axes>"
      ]
     },
     "metadata": {},
     "output_type": "display_data"
    }
   ],
   "source": [
    "# Check normality of Deaths\n",
    "qntls, xr = stats.probplot(df_mega['rehab_agg'], fit=False)\n",
    "sns.regplot(xr,qntls)"
   ]
  },
  {
   "cell_type": "code",
   "execution_count": 48,
   "metadata": {},
   "outputs": [
    {
     "data": {
      "text/plain": [
       "-0.12349038357132591"
      ]
     },
     "execution_count": 48,
     "metadata": {},
     "output_type": "execute_result"
    }
   ],
   "source": [
    "df_mega['log_Deaths'].corr(df_mega['rehab_agg'])"
   ]
  },
  {
   "cell_type": "code",
   "execution_count": 49,
   "metadata": {},
   "outputs": [
    {
     "name": "stderr",
     "output_type": "stream",
     "text": [
      "c:\\program files\\python36\\lib\\site-packages\\matplotlib\\axes\\_axes.py:6462: UserWarning: The 'normed' kwarg is deprecated, and has been replaced by the 'density' kwarg.\n",
      "  warnings.warn(\"The 'normed' kwarg is deprecated, and has been \"\n"
     ]
    },
    {
     "data": {
      "image/png": "[encoded data removed]",
      "text/plain": [
       "<Figure size 432x432 with 3 Axes>"
      ]
     },
     "metadata": {},
     "output_type": "display_data"
    }
   ],
   "source": [
    "g = sns.JointGrid(x='rehab_agg',y='log_Deaths', data=df_mega)\n",
    "g = g.plot(sns.regplot, sns.distplot)\n",
    "g = g.annotate(stats.pearsonr)"
   ]
  },
  {
   "cell_type": "markdown",
   "metadata": {},
   "source": [
    "# 3.\tGun deaths vs availability of payment reduction (PAYASST)"
   ]
  },
  {
   "cell_type": "code",
   "execution_count": 50,
   "metadata": {},
   "outputs": [
    {
     "data": {
      "text/plain": [
       "<matplotlib.axes._subplots.AxesSubplot at 0x12e580a4748>"
      ]
     },
     "execution_count": 50,
     "metadata": {},
     "output_type": "execute_result"
    },
    {
     "data": {
      "image/png": "[encoded data removed]",
      "text/plain": [
       "<Figure size 432x288 with 1 Axes>"
      ]
     },
     "metadata": {},
     "output_type": "display_data"
    }
   ],
   "source": [
    "# Check normality of Deaths\n",
    "qntls, xr = stats.probplot(df_mega['PAYASST'], fit=False)\n",
    "sns.regplot(xr,qntls)"
   ]
  },
  {
   "cell_type": "code",
   "execution_count": 51,
   "metadata": {},
   "outputs": [
    {
     "data": {
      "text/plain": [
       "0.0023296410317653862"
      ]
     },
     "execution_count": 51,
     "metadata": {},
     "output_type": "execute_result"
    }
   ],
   "source": [
    "df_mega['log_Deaths'].corr(df_mega['PAYASST'])"
   ]
  },
  {
   "cell_type": "code",
   "execution_count": 52,
   "metadata": {},
   "outputs": [
    {
     "name": "stderr",
     "output_type": "stream",
     "text": [
      "c:\\program files\\python36\\lib\\site-packages\\matplotlib\\axes\\_axes.py:6462: UserWarning: The 'normed' kwarg is deprecated, and has been replaced by the 'density' kwarg.\n",
      "  warnings.warn(\"The 'normed' kwarg is deprecated, and has been \"\n"
     ]
    },
    {
     "data": {
      "image/png": "[encoded data removed]",
      "text/plain": [
       "<Figure size 432x432 with 3 Axes>"
      ]
     },
     "metadata": {},
     "output_type": "display_data"
    }
   ],
   "source": [
    "g = sns.JointGrid(x='PAYASST',y='log_Deaths', data=df_mega)\n",
    "g = g.plot(sns.regplot, sns.distplot)\n",
    "g = g.annotate(stats.pearsonr)"
   ]
  },
  {
   "cell_type": "markdown",
   "metadata": {},
   "source": [
    "# 4.\tGun deaths vs availability of crisis intervention (CRISISTEAM2)\n"
   ]
  },
  {
   "cell_type": "code",
   "execution_count": 53,
   "metadata": {},
   "outputs": [
    {
     "data": {
      "text/plain": [
       "<matplotlib.axes._subplots.AxesSubplot at 0x12e5825c828>"
      ]
     },
     "execution_count": 53,
     "metadata": {},
     "output_type": "execute_result"
    },
    {
     "data": {
      "image/png": "[encoded data removed]",
      "text/plain": [
       "<Figure size 432x288 with 1 Axes>"
      ]
     },
     "metadata": {},
     "output_type": "display_data"
    }
   ],
   "source": [
    "# Check normality of Deaths\n",
    "qntls, xr = stats.probplot(df_mega['CRISISTEAM2'], fit=False)\n",
    "sns.regplot(xr,qntls)"
   ]
  },
  {
   "cell_type": "code",
   "execution_count": 54,
   "metadata": {},
   "outputs": [
    {
     "data": {
      "text/plain": [
       "-0.20422987618527158"
      ]
     },
     "execution_count": 54,
     "metadata": {},
     "output_type": "execute_result"
    }
   ],
   "source": [
    "df_mega['log_Deaths'].corr(df_mega['CRISISTEAM2'])"
   ]
  },
  {
   "cell_type": "code",
   "execution_count": 55,
   "metadata": {},
   "outputs": [
    {
     "name": "stderr",
     "output_type": "stream",
     "text": [
      "c:\\program files\\python36\\lib\\site-packages\\matplotlib\\axes\\_axes.py:6462: UserWarning: The 'normed' kwarg is deprecated, and has been replaced by the 'density' kwarg.\n",
      "  warnings.warn(\"The 'normed' kwarg is deprecated, and has been \"\n"
     ]
    },
    {
     "data": {
      "image/png": "[encoded data removed]",
      "text/plain": [
       "<Figure size 432x432 with 3 Axes>"
      ]
     },
     "metadata": {},
     "output_type": "display_data"
    }
   ],
   "source": [
    "g = sns.JointGrid(x='CRISISTEAM2',y='log_Deaths', data=df_mega)\n",
    "g = g.plot(sns.regplot, sns.distplot)\n",
    "g = g.annotate(stats.pearsonr)"
   ]
  },
  {
   "cell_type": "code",
   "execution_count": 56,
   "metadata": {},
   "outputs": [],
   "source": [
    "# export as csv so that you can run databricks analysis\n",
    "df_mega.to_csv('df_mega.csv')"
   ]
  }
 ],
 "metadata": {
  "kernelspec": {
   "display_name": "Python 3",
   "language": "python",
   "name": "python3"
  },
  "language_info": {
   "codemirror_mode": {
    "name": "ipython",
    "version": 3
   },
   "file_extension": ".py",
   "mimetype": "text/x-python",
   "name": "python",
   "nbconvert_exporter": "python",
   "pygments_lexer": "ipython3",
   "version": "3.6.5"
  }
 },
 "nbformat": 4,
 "nbformat_minor": 2
}
